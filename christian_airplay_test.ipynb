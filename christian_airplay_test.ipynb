{
 "cells": [
  {
   "cell_type": "code",
   "execution_count": 1,
   "metadata": {},
   "outputs": [
    {
     "ename": "SyntaxError",
     "evalue": "incomplete input (4193616224.py, line 1)",
     "output_type": "error",
     "traceback": [
      "\u001b[0;36m  Cell \u001b[0;32mIn [1], line 1\u001b[0;36m\u001b[0m\n\u001b[0;31m    def get_data_by_title_id(title_id, access_token):\u001b[0m\n\u001b[0m                                                     ^\u001b[0m\n\u001b[0;31mSyntaxError\u001b[0m\u001b[0;31m:\u001b[0m incomplete input\n"
     ]
    }
   ],
   "source": [
    "def get_data_by_title_id(title_id, access_token):\n",
    "\n",
    "    headers = {\n",
    "        'Content-Type':'application/json',\n",
    "        'Authorization': access_token,\n",
    "        'x-api-key': api_key,\n",
    "        # 'Accept':'application/vnd.mrc-data.chart.v1.1+json'\n",
    "    }\n",
    "\n",
    "    url = f\"https://api.musicconnect.mrc-data.com/api/song/{title_id}/data\"\n",
    "\n",
    "    # Create a session to reuse the same HTTP connection\n",
    "    with requests.Session() as session:\n",
    "        # Make the request\n",
    "        r = session.post(url=url, headers=headers)\n",
    "\n",
    "        # Access the metrics field directly\n",
    "        metrics = r.json()['metrics']\n",
    "\n",
    "        # Create a list of dictionaries to hold the data\n",
    "        data = []\n",
    "        for metric in metrics:\n",
    "            top_level = metric['name'].lower()\n",
    "            for value in metric['value']:\n",
    "                data.append({\n",
    "                    'title_id': title_id,\n",
    "                    'top_level': top_level,\n",
    "                    'period': value['name'],\n",
    "                    'value': value['value']\n",
    "                })\n",
    "\n",
    "        # Create a DataFrame from the list of dictionaries\n",
    "        df_row = pd.DataFrame(data).pivot_table(index='title_id', columns=['top_level', 'period'], values='value', aggfunc='first')\n",
    "\n",
    "        # Sleep for one second to avoid hitting rate limits\n",
    "        time.sleep(1)\n",
    "\n",
    "        return df_row"
   ]
  },
  {
   "cell_type": "code",
   "execution_count": 9,
   "metadata": {},
   "outputs": [
    {
     "ename": "SyntaxError",
     "evalue": "incomplete input (4222596881.py, line 37)",
     "output_type": "error",
     "traceback": [
      "\u001b[0;36m  Cell \u001b[0;32mIn [9], line 37\u001b[0;36m\u001b[0m\n\u001b[0;31m    sizes = [float(x) for x in sizes\u001b[0m\n\u001b[0m                                    ^\u001b[0m\n\u001b[0;31mSyntaxError\u001b[0m\u001b[0;31m:\u001b[0m incomplete input\n"
     ]
    }
   ],
   "source": [
    "import matplotlib.pyplot as plt\n",
    "import matplotlib.cm as cm\n",
    "from matplotlib.colors import Normalize, BoundaryNorm\n",
    "from matplotlib.patches import Patch\n",
    "\n",
    "# creating the data\n",
    "data = [\n",
    "    ['Fruit', [\n",
    "        ['Apple', 50],\n",
    "        ['Orange', 20]\n",
    "    ]],\n",
    "    ['Vegetable', [\n",
    "        ['Tomato', 30],\n",
    "        ['Carrot', 10]\n",
    "    ]]\n",
    "]\n",
    "\n",
    "# creating the figure and axis\n",
    "fig, ax = plt.subplots()\n",
    "\n",
    "# calculating the sizes of the wedges\n",
    "sizes = []\n",
    "labels = []\n",
    "color_map = cm.get_cmap('RdYlGn')\n",
    "norm = Normalize()\n",
    "\n",
    "def traverse_data(data, parent=''):\n",
    "    for d in data:\n",
    "        labels.append(parent + '/' + d[0])\n",
    "        sizes.append(d[1])\n",
    "        if len(d) == 3:\n",
    "            traverse_data(d[2], parent=parent + '/' + d[0])\n",
    "\n",
    "traverse_data(data)\n",
    "\n",
    "# converting the sizes to floating-point values\n",
    "sizes = [float(x) for x in sizes\n"
   ]
  },
  {
   "cell_type": "code",
   "execution_count": 4,
   "metadata": {},
   "outputs": [
    {
     "data": {
      "image/png": "[encoded data removed]",
      "text/plain": [
       "<Figure size 640x480 with 1 Axes>"
      ]
     },
     "metadata": {},
     "output_type": "display_data"
    }
   ],
   "source": [
    "import matplotlib.pyplot as plt\n",
    "import squarify\n",
    "\n",
    "# creating the data\n",
    "data = [\n",
    "    ['Apple', 'Fruit', 50],\n",
    "    ['Orange', 'Fruit', 20],\n",
    "    ['Tomato', 'Vegetable', 30],\n",
    "    ['Carrot', 'Vegetable', 10]\n",
    "]\n",
    "\n",
    "# creating the figure and axis\n",
    "fig, ax = plt.subplots()\n",
    "\n",
    "# plotting the sunburst chart\n",
    "squarify.plot(sizes=[x[2] for x in data], label=[x[0] for x in data],\n",
    "              color=[\"red\", \"orange\", \"yellow\", \"green\"], alpha=.4)\n",
    "\n",
    "# adding a title\n",
    "ax.set_title('Sunburst Chart Example')\n",
    "\n",
    "# showing the plot\n",
    "plt.show()"
   ]
  },
  {
   "cell_type": "code",
   "execution_count": null,
   "metadata": {},
   "outputs": [],
   "source": []
  }
 ],
 "metadata": {
  "kernelspec": {
   "display_name": "Python 3.10.4 ('env1')",
   "language": "python",
   "name": "python3"
  },
  "language_info": {
   "codemirror_mode": {
    "name": "ipython",
    "version": 3
   },
   "file_extension": ".py",
   "mimetype": "text/x-python",
   "name": "python",
   "nbconvert_exporter": "python",
   "pygments_lexer": "ipython3",
   "version": "3.10.4"
  },
  "orig_nbformat": 4,
  "vscode": {
   "interpreter": {
    "hash": "5e0f69a1e3988450694f102735e7a9b2b4ad9ae2d59ea6a9c4cf1323d84870d3"
   }
  }
 },
 "nbformat": 4,
 "nbformat_minor": 2
}
